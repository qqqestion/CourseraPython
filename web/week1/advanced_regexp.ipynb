{
 "cells": [
  {
   "cell_type": "code",
   "execution_count": 2,
   "metadata": {},
   "outputs": [
    {
     "name": "stdout",
     "output_type": "stream",
     "text": [
      "valid nickname: \"sU3r_h4XXX0r\"\n",
      "valid nickname: \"alёna\"\n",
      "valid nickname: \"ivan ivanovich\"\n"
     ]
    }
   ],
   "source": [
    "import re\n",
    "\n",
    "nicknames = ['sU3r_h4XXX0r', 'alёna', 'ivan ivanovich']\n",
    "regexp = re.compile(r'\\w+') # checks only first two chars\n",
    "for nick in nicknames:\n",
    "    print('{} nickname: \"{}\"'.format(\n",
    "        'valid' if regexp.match(nick) else 'invalid', \n",
    "        nick\n",
    "    ))"
   ]
  },
  {
   "cell_type": "code",
   "execution_count": 3,
   "metadata": {},
   "outputs": [
    {
     "name": "stdout",
     "output_type": "stream",
     "text": [
      "valid nickname: \"sU3r_h4XXX0r\"\n",
      "valid nickname: \"alёna\"\n",
      "invalid nickname: \"ivan ivanovich\"\n"
     ]
    }
   ],
   "source": [
    "import re\n",
    "\n",
    "nicknames = ['sU3r_h4XXX0r', 'alёna', 'ivan ivanovich']\n",
    "regexp = re.compile(r'^\\w+$') # checks whole line\n",
    "for nick in nicknames:\n",
    "    print('{} nickname: \"{}\"'.format(\n",
    "        'valid' if regexp.match(nick) else 'invalid', \n",
    "        nick\n",
    "    ))"
   ]
  },
  {
   "cell_type": "code",
   "execution_count": 4,
   "metadata": {},
   "outputs": [
    {
     "name": "stdout",
     "output_type": "stream",
     "text": [
      "valid nickname: \"sU3r_h4XXX0r\"\n",
      "invalid nickname: \"alёna\"\n",
      "invalid nickname: \"ivan ivanovich\"\n"
     ]
    }
   ],
   "source": [
    "import re\n",
    "\n",
    "nicknames = ['sU3r_h4XXX0r', 'alёna', 'ivan ivanovich']\n",
    "regexp = re.compile(r'^\\w+$', re.ASCII) # checks whole line and only ASCII letters\n",
    "for nick in nicknames:\n",
    "    print('{} nickname: \"{}\"'.format(\n",
    "        'valid' if regexp.match(nick) else 'invalid', \n",
    "        nick\n",
    "    ))"
   ]
  },
  {
   "cell_type": "code",
   "execution_count": 6,
   "metadata": {},
   "outputs": [
    {
     "data": {
      "text/plain": [
       "['Анна', 'Лена', 'Яна', 'Ильна']"
      ]
     },
     "execution_count": 6,
     "metadata": {},
     "output_type": "execute_result"
    }
   ],
   "source": [
    "# we want to find all female names in text\n",
    "\n",
    "text = (\n",
    "    'Анна и Лена загорали на берегу океанац'\n",
    "    'когда к ним подошли Яна и Ильнар'\n",
    ")\n",
    "re.findall(r'[А-Я]\\w*на', text) # finds only Big letter + 'на'"
   ]
  },
  {
   "cell_type": "code",
   "execution_count": 8,
   "metadata": {},
   "outputs": [
    {
     "data": {
      "text/plain": [
       "['Анна', 'Лена', 'Яна']"
      ]
     },
     "execution_count": 8,
     "metadata": {},
     "output_type": "execute_result"
    }
   ],
   "source": [
    "text = (\n",
    "    'Анна и Лена загорали на берегу океанац'\n",
    "    'когда к ним подошли Яна и ПОЛИНА Ильнар'\n",
    ")\n",
    "re.findall(r'\\b[А-Я]\\w*на\\b', text) \n",
    "# now we find only words that start with capital letter and \n",
    "# ends with 'на' but we can't match ПОЛИНА"
   ]
  },
  {
   "cell_type": "code",
   "execution_count": 9,
   "metadata": {},
   "outputs": [
    {
     "data": {
      "text/plain": [
       "['на', 'на', 'на', 'НА']"
      ]
     },
     "execution_count": 9,
     "metadata": {},
     "output_type": "execute_result"
    }
   ],
   "source": [
    "text = (\n",
    "    'Анна и Лена загорали на берегу океанац'\n",
    "    'когда к ним подошли Яна и ПОЛИНА Ильнар'\n",
    ")\n",
    "re.findall(r'\\b[А-Я]\\w*(на|НА)\\b', text) \n",
    "# finds only endings"
   ]
  },
  {
   "cell_type": "code",
   "execution_count": 11,
   "metadata": {},
   "outputs": [
    {
     "data": {
      "text/plain": [
       "['Анна', 'Лена', 'Яна', 'ПОЛИНА']"
      ]
     },
     "execution_count": 11,
     "metadata": {},
     "output_type": "execute_result"
    }
   ],
   "source": [
    "text = (\n",
    "    'Анна и Лена загорали на берегу океанац'\n",
    "    'когда к ним подошли Яна и ПОЛИНА Ильнар'\n",
    ")\n",
    "re.findall(r'\\b[А-Я]\\w*(?:на|НА)\\b', text) \n",
    "# we group our (?:на|НА) but tells not to memorize it"
   ]
  },
  {
   "cell_type": "code",
   "execution_count": null,
   "metadata": {},
   "outputs": [],
   "source": []
  }
 ],
 "metadata": {
  "kernelspec": {
   "display_name": "Python 3",
   "language": "python",
   "name": "python3"
  },
  "language_info": {
   "codemirror_mode": {
    "name": "ipython",
    "version": 3
   },
   "file_extension": ".py",
   "mimetype": "text/x-python",
   "name": "python",
   "nbconvert_exporter": "python",
   "pygments_lexer": "ipython3",
   "version": "3.8.1"
  }
 },
 "nbformat": 4,
 "nbformat_minor": 4
}
