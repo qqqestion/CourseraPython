{
 "cells": [
  {
   "cell_type": "code",
   "execution_count": 48,
   "metadata": {},
   "outputs": [
    {
     "name": "stdout",
     "output_type": "stream",
     "text": [
      "3\n"
     ]
    }
   ],
   "source": [
    "from bs4 import BeautifulSoup\n",
    "import re\n",
    "\n",
    "\n",
    "html = \"\"\"<!DOCTYPE html>\n",
    "<html lang='en'>\n",
    "    <head>\n",
    "        <title>test page</title>\n",
    "    </head>\n",
    "    <body class='mybody' id='js-body'>\n",
    "        <p><span><a></a></span><a></a><a></a></p>\n",
    "        <p><a><span></span></a><a></a><a></a></p>\n",
    "    </body>\n",
    "<html>\n",
    "\"\"\"\n",
    "soup = BeautifulSoup(html, 'lxml')\n",
    "max_cnt = 0\n",
    "reg = re.compile(r'<a.*?>.*?</a>')\n",
    "for ref in soup.body.find_all('a'):\n",
    "#     ref.parent.contents\n",
    "    parent_contents = ref.parent.contents\n",
    "    current_max = 0\n",
    "    is_first = True\n",
    "#     print(ref)\n",
    "    for tag in parent_contents:\n",
    "#         print('current tag:', str(tag))\n",
    "#         print(str(tag) == '<a></a>')\n",
    "        if reg.match(str(tag)):\n",
    "            current_max += 1\n",
    "        max_cnt = max(current_max, max_cnt)\n",
    "print(max_cnt)"
   ]
  },
  {
   "cell_type": "code",
   "execution_count": null,
   "metadata": {},
   "outputs": [],
   "source": []
  }
 ],
 "metadata": {
  "kernelspec": {
   "display_name": "Python 3",
   "language": "python",
   "name": "python3"
  },
  "language_info": {
   "codemirror_mode": {
    "name": "ipython",
    "version": 3
   },
   "file_extension": ".py",
   "mimetype": "text/x-python",
   "name": "python",
   "nbconvert_exporter": "python",
   "pygments_lexer": "ipython3",
   "version": "3.8.1"
  }
 },
 "nbformat": 4,
 "nbformat_minor": 4
}
