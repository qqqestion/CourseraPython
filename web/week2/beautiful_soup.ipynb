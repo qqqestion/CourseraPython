{
 "cells": [
  {
   "cell_type": "code",
   "execution_count": 2,
   "metadata": {},
   "outputs": [],
   "source": [
    "# let's try parsing wiki page and find links to other wiki projects\n",
    "import requests\n",
    "resp = requests.get('https://wikipedia.org/')\n",
    "html = resp.text"
   ]
  },
  {
   "cell_type": "code",
   "execution_count": 4,
   "metadata": {},
   "outputs": [
    {
     "data": {
      "text/plain": [
       "['//commons.wikimedia.org/',\n",
       " '//www.wikivoyage.org/',\n",
       " '//www.wiktionary.org/',\n",
       " '//www.wikibooks.org/',\n",
       " '//www.wikinews.org/',\n",
       " '//www.wikidata.org/',\n",
       " '//www.wikiversity.org/',\n",
       " '//www.wikiquote.org/',\n",
       " '//www.mediawiki.org/',\n",
       " '//www.wikisource.org/',\n",
       " '//species.wikimedia.org/',\n",
       " '//meta.wikimedia.org/']"
      ]
     },
     "execution_count": 4,
     "metadata": {},
     "output_type": "execute_result"
    }
   ],
   "source": [
    "import re\n",
    "re.findall(r'<a[^>]*other-project-link[^>]*href=\"([^\"\"]*)', html)"
   ]
  },
  {
   "cell_type": "code",
   "execution_count": 8,
   "metadata": {},
   "outputs": [
    {
     "data": {
      "text/plain": [
       "['//commons.wikimedia.org/',\n",
       " '//www.wikivoyage.org/',\n",
       " '//www.wiktionary.org/',\n",
       " '//www.wikibooks.org/',\n",
       " '//www.wikinews.org/',\n",
       " '//www.wikidata.org/',\n",
       " '//www.wikiversity.org/',\n",
       " '//www.wikiquote.org/',\n",
       " '//www.mediawiki.org/',\n",
       " '//www.wikisource.org/',\n",
       " '//species.wikimedia.org/',\n",
       " '//meta.wikimedia.org/']"
      ]
     },
     "execution_count": 8,
     "metadata": {},
     "output_type": "execute_result"
    }
   ],
   "source": [
    "from bs4 import BeautifulSoup\n",
    "soup = BeautifulSoup(html, 'lxml')\n",
    "[tag['href'] for tag in soup('a', 'other-project-link')]"
   ]
  },
  {
   "cell_type": "code",
   "execution_count": 14,
   "metadata": {},
   "outputs": [],
   "source": [
    "# let's take a look at method BeautifulSoup\n",
    "html = \"\"\"<!DOCTYPE html>\n",
    "<html lang='en'>\n",
    "    <head>\n",
    "        <title>test page</title>\n",
    "    </head>\n",
    "    <body class='mybody' id='js-body'>\n",
    "        <p class='text odd'>first <b>bold</b> paragraph</p>\n",
    "        <p class='text even'>second <a href='https://mail.ru'>link</a></p>\n",
    "        <p class='list odd'>third <a id='paragraph'><b>bold link</b></a></p>\n",
    "    </body>\n",
    "<html>\n",
    "\"\"\"\n",
    "from bs4 import BeautifulSoup\n",
    "soup = BeautifulSoup(html, 'lxml')"
   ]
  },
  {
   "cell_type": "code",
   "execution_count": 16,
   "metadata": {},
   "outputs": [
    {
     "name": "stdout",
     "output_type": "stream",
     "text": [
      "<!DOCTYPE html>\n",
      "<html lang=\"en\">\n",
      " <head>\n",
      "  <title>\n",
      "   test page\n",
      "  </title>\n",
      " </head>\n",
      " <body class=\"mybody\" id=\"js-body\">\n",
      "  <p class=\"text odd\">\n",
      "   first\n",
      "   <b>\n",
      "    bold\n",
      "   </b>\n",
      "   paragraph\n",
      "  </p>\n",
      "  <p class=\"text even\">\n",
      "   second\n",
      "   <a href=\"https://mail.ru\">\n",
      "    link\n",
      "   </a>\n",
      "  </p>\n",
      "  <p class=\"list odd\">\n",
      "   third\n",
      "   <a id=\"paragraph\">\n",
      "    <b>\n",
      "     bold link\n",
      "    </b>\n",
      "   </a>\n",
      "  </p>\n",
      " </body>\n",
      "</html>\n"
     ]
    }
   ],
   "source": [
    "print(soup.prettify())"
   ]
  },
  {
   "cell_type": "code",
   "execution_count": 17,
   "metadata": {},
   "outputs": [
    {
     "data": {
      "text/plain": [
       "<p class=\"text odd\">first <b>bold</b> paragraph</p>"
      ]
     },
     "execution_count": 17,
     "metadata": {},
     "output_type": "execute_result"
    }
   ],
   "source": [
    "soup.p"
   ]
  },
  {
   "cell_type": "code",
   "execution_count": 18,
   "metadata": {},
   "outputs": [
    {
     "data": {
      "text/plain": [
       "bs4.element.Tag"
      ]
     },
     "execution_count": 18,
     "metadata": {},
     "output_type": "execute_result"
    }
   ],
   "source": [
    "type(soup.p)"
   ]
  },
  {
   "cell_type": "code",
   "execution_count": 19,
   "metadata": {},
   "outputs": [
    {
     "data": {
      "text/plain": [
       "bs4.element.Tag"
      ]
     },
     "execution_count": 19,
     "metadata": {},
     "output_type": "execute_result"
    }
   ],
   "source": [
    "type(soup.p.b)"
   ]
  },
  {
   "cell_type": "code",
   "execution_count": 20,
   "metadata": {},
   "outputs": [
    {
     "data": {
      "text/plain": [
       "bs4.element.NavigableString"
      ]
     },
     "execution_count": 20,
     "metadata": {},
     "output_type": "execute_result"
    }
   ],
   "source": [
    "type(soup.p.b.string)"
   ]
  },
  {
   "cell_type": "code",
   "execution_count": 21,
   "metadata": {},
   "outputs": [
    {
     "data": {
      "text/plain": [
       "'bold'"
      ]
     },
     "execution_count": 21,
     "metadata": {},
     "output_type": "execute_result"
    }
   ],
   "source": [
    "soup.p.b.string"
   ]
  },
  {
   "cell_type": "code",
   "execution_count": 22,
   "metadata": {},
   "outputs": [
    {
     "data": {
      "text/plain": [
       "'b'"
      ]
     },
     "execution_count": 22,
     "metadata": {},
     "output_type": "execute_result"
    }
   ],
   "source": [
    "soup.b.name"
   ]
  },
  {
   "cell_type": "code",
   "execution_count": 23,
   "metadata": {},
   "outputs": [
    {
     "data": {
      "text/plain": [
       "['text', 'odd']"
      ]
     },
     "execution_count": 23,
     "metadata": {},
     "output_type": "execute_result"
    }
   ],
   "source": [
    "soup.p['class']"
   ]
  },
  {
   "cell_type": "code",
   "execution_count": 25,
   "metadata": {},
   "outputs": [
    {
     "data": {
      "text/plain": [
       "'js-body'"
      ]
     },
     "execution_count": 25,
     "metadata": {},
     "output_type": "execute_result"
    }
   ],
   "source": [
    "soup.body['id']"
   ]
  },
  {
   "cell_type": "code",
   "execution_count": 26,
   "metadata": {},
   "outputs": [
    {
     "data": {
      "text/plain": [
       "<p class=\"text odd\">first <b>bold</b> paragraph</p>"
      ]
     },
     "execution_count": 26,
     "metadata": {},
     "output_type": "execute_result"
    }
   ],
   "source": [
    "soup.p.b.parent"
   ]
  },
  {
   "cell_type": "code",
   "execution_count": 27,
   "metadata": {},
   "outputs": [
    {
     "data": {
      "text/plain": [
       "['p', 'body', 'html', '[document]']"
      ]
     },
     "execution_count": 27,
     "metadata": {},
     "output_type": "execute_result"
    }
   ],
   "source": [
    "[tag.name for tag in soup.p.b.parents]"
   ]
  },
  {
   "cell_type": "code",
   "execution_count": 28,
   "metadata": {},
   "outputs": [
    {
     "data": {
      "text/plain": [
       "'first '"
      ]
     },
     "execution_count": 28,
     "metadata": {},
     "output_type": "execute_result"
    }
   ],
   "source": [
    "soup.p.next"
   ]
  },
  {
   "cell_type": "code",
   "execution_count": 29,
   "metadata": {},
   "outputs": [
    {
     "data": {
      "text/plain": [
       "<b>bold</b>"
      ]
     },
     "execution_count": 29,
     "metadata": {},
     "output_type": "execute_result"
    }
   ],
   "source": [
    "soup.p.next.next"
   ]
  },
  {
   "cell_type": "code",
   "execution_count": 30,
   "metadata": {},
   "outputs": [
    {
     "data": {
      "text/plain": [
       "'\\n'"
      ]
     },
     "execution_count": 30,
     "metadata": {},
     "output_type": "execute_result"
    }
   ],
   "source": [
    "soup.p.next_sibling"
   ]
  },
  {
   "cell_type": "code",
   "execution_count": 31,
   "metadata": {},
   "outputs": [
    {
     "data": {
      "text/plain": [
       "<p class=\"text even\">second <a href=\"https://mail.ru\">link</a></p>"
      ]
     },
     "execution_count": 31,
     "metadata": {},
     "output_type": "execute_result"
    }
   ],
   "source": [
    "soup.p.next_sibling.next_sibling"
   ]
  },
  {
   "cell_type": "code",
   "execution_count": 32,
   "metadata": {},
   "outputs": [
    {
     "data": {
      "text/plain": [
       "['first ', <b>bold</b>, ' paragraph']"
      ]
     },
     "execution_count": 32,
     "metadata": {},
     "output_type": "execute_result"
    }
   ],
   "source": [
    "soup.p.contents"
   ]
  },
  {
   "cell_type": "code",
   "execution_count": 36,
   "metadata": {},
   "outputs": [
    {
     "data": {
      "text/plain": [
       "['first ', <b>bold</b>, ' paragraph']"
      ]
     },
     "execution_count": 36,
     "metadata": {},
     "output_type": "execute_result"
    }
   ],
   "source": [
    "list(soup.p.children) # generator"
   ]
  },
  {
   "cell_type": "code",
   "execution_count": 44,
   "metadata": {},
   "outputs": [],
   "source": [
    "# let's take a look at advanced method BeautifulSoup\n",
    "html = \"\"\"<!DOCTYPE html>\n",
    "<html lang='en'>\n",
    "    <head>\n",
    "        <title>test page</title>\n",
    "    </head>\n",
    "    <body class='mybody' id='js-body'>\n",
    "        <p class='text odd'>first <b>bold</b> paragraph</p>\n",
    "        <p class='text even'>second <a href='https://mail.ru'>link</a></p>\n",
    "        <p class='list odd'>third <a id='paragraph'><b>bold link</b></a></p>\n",
    "    </body>\n",
    "<html>\n",
    "\"\"\"\n",
    "from bs4 import BeautifulSoup\n",
    "soup = BeautifulSoup(html, 'lxml')"
   ]
  },
  {
   "cell_type": "code",
   "execution_count": 2,
   "metadata": {},
   "outputs": [
    {
     "data": {
      "text/plain": [
       "'p'"
      ]
     },
     "execution_count": 2,
     "metadata": {},
     "output_type": "execute_result"
    }
   ],
   "source": [
    "soup.b.parent.name"
   ]
  },
  {
   "cell_type": "code",
   "execution_count": 3,
   "metadata": {},
   "outputs": [
    {
     "data": {
      "text/plain": [
       "'body'"
      ]
     },
     "execution_count": 3,
     "metadata": {},
     "output_type": "execute_result"
    }
   ],
   "source": [
    "soup.p.b.find_parent(id='js-body').name"
   ]
  },
  {
   "cell_type": "code",
   "execution_count": 6,
   "metadata": {},
   "outputs": [
    {
     "data": {
      "text/plain": [
       "'js-body'"
      ]
     },
     "execution_count": 6,
     "metadata": {},
     "output_type": "execute_result"
    }
   ],
   "source": [
    "soup.p.b.find_parent('body')['id']"
   ]
  },
  {
   "cell_type": "code",
   "execution_count": 7,
   "metadata": {},
   "outputs": [
    {
     "data": {
      "text/plain": [
       "'\\n'"
      ]
     },
     "execution_count": 7,
     "metadata": {},
     "output_type": "execute_result"
    }
   ],
   "source": [
    "soup.p.next_sibling"
   ]
  },
  {
   "cell_type": "code",
   "execution_count": 8,
   "metadata": {},
   "outputs": [
    {
     "data": {
      "text/plain": [
       "<p class=\"text even\">second <a href=\"https://mail.ru\">link</a></p>"
      ]
     },
     "execution_count": 8,
     "metadata": {},
     "output_type": "execute_result"
    }
   ],
   "source": [
    "soup.p.next_sibling.next_sibling"
   ]
  },
  {
   "cell_type": "code",
   "execution_count": 9,
   "metadata": {},
   "outputs": [
    {
     "data": {
      "text/plain": [
       "<p class=\"list odd\">third <a id=\"paragraph\"><b>bold link</b></a></p>"
      ]
     },
     "execution_count": 9,
     "metadata": {},
     "output_type": "execute_result"
    }
   ],
   "source": [
    "soup.p.find_next_sibling(class_='odd')"
   ]
  },
  {
   "cell_type": "code",
   "execution_count": 10,
   "metadata": {},
   "outputs": [
    {
     "data": {
      "text/plain": [
       "['\\n',\n",
       " <p class=\"text even\">second <a href=\"https://mail.ru\">link</a></p>,\n",
       " '\\n',\n",
       " <p class=\"list odd\">third <a id=\"paragraph\"><b>bold link</b></a></p>,\n",
       " '\\n']"
      ]
     },
     "execution_count": 10,
     "metadata": {},
     "output_type": "execute_result"
    }
   ],
   "source": [
    "list(soup.p.next_siblings)"
   ]
  },
  {
   "cell_type": "code",
   "execution_count": 11,
   "metadata": {},
   "outputs": [
    {
     "data": {
      "text/plain": [
       "[<p class=\"text even\">second <a href=\"https://mail.ru\">link</a></p>,\n",
       " <p class=\"list odd\">third <a id=\"paragraph\"><b>bold link</b></a></p>]"
      ]
     },
     "execution_count": 11,
     "metadata": {},
     "output_type": "execute_result"
    }
   ],
   "source": [
    "soup.p.find_next_siblings()"
   ]
  },
  {
   "cell_type": "code",
   "execution_count": 12,
   "metadata": {},
   "outputs": [
    {
     "data": {
      "text/plain": [
       "['first ', <b>bold</b>, ' paragraph']"
      ]
     },
     "execution_count": 12,
     "metadata": {},
     "output_type": "execute_result"
    }
   ],
   "source": [
    "soup.p.contents"
   ]
  },
  {
   "cell_type": "code",
   "execution_count": 15,
   "metadata": {},
   "outputs": [
    {
     "data": {
      "text/plain": [
       "<list_iterator at 0x105406e50>"
      ]
     },
     "execution_count": 15,
     "metadata": {},
     "output_type": "execute_result"
    }
   ],
   "source": [
    "soup.p.children"
   ]
  },
  {
   "cell_type": "code",
   "execution_count": 16,
   "metadata": {},
   "outputs": [
    {
     "data": {
      "text/plain": [
       "['first ', <b>bold</b>, ' paragraph']"
      ]
     },
     "execution_count": 16,
     "metadata": {},
     "output_type": "execute_result"
    }
   ],
   "source": [
    "list(soup.p.children)"
   ]
  },
  {
   "cell_type": "code",
   "execution_count": 17,
   "metadata": {},
   "outputs": [
    {
     "data": {
      "text/plain": [
       "<b>bold</b>"
      ]
     },
     "execution_count": 17,
     "metadata": {},
     "output_type": "execute_result"
    }
   ],
   "source": [
    "soup.p.find('b')"
   ]
  },
  {
   "cell_type": "code",
   "execution_count": 18,
   "metadata": {},
   "outputs": [
    {
     "data": {
      "text/plain": [
       "['mybody']"
      ]
     },
     "execution_count": 18,
     "metadata": {},
     "output_type": "execute_result"
    }
   ],
   "source": [
    "soup.find(id='js-body')['class']"
   ]
  },
  {
   "cell_type": "code",
   "execution_count": 19,
   "metadata": {},
   "outputs": [
    {
     "data": {
      "text/plain": [
       "<b>bold</b>"
      ]
     },
     "execution_count": 19,
     "metadata": {},
     "output_type": "execute_result"
    }
   ],
   "source": [
    "soup.find('b', text='bold')"
   ]
  },
  {
   "cell_type": "code",
   "execution_count": 22,
   "metadata": {},
   "outputs": [
    {
     "data": {
      "text/plain": [
       "[<p class=\"text odd\">first <b>bold</b> paragraph</p>,\n",
       " <p class=\"text even\">second <a href=\"https://mail.ru\">link</a></p>,\n",
       " <p class=\"list odd\">third <a id=\"paragraph\"><b>bold link</b></a></p>]"
      ]
     },
     "execution_count": 22,
     "metadata": {},
     "output_type": "execute_result"
    }
   ],
   "source": [
    "soup.find_all('p')"
   ]
  },
  {
   "cell_type": "code",
   "execution_count": 23,
   "metadata": {},
   "outputs": [
    {
     "data": {
      "text/plain": [
       "[<p class=\"text odd\">first <b>bold</b> paragraph</p>]"
      ]
     },
     "execution_count": 23,
     "metadata": {},
     "output_type": "execute_result"
    }
   ],
   "source": [
    "soup.find_all('p', class_='text odd')"
   ]
  },
  {
   "cell_type": "code",
   "execution_count": 24,
   "metadata": {},
   "outputs": [
    {
     "data": {
      "text/plain": [
       "[]"
      ]
     },
     "execution_count": 24,
     "metadata": {},
     "output_type": "execute_result"
    }
   ],
   "source": [
    "soup.find_all('p', class_='odd text')"
   ]
  },
  {
   "cell_type": "code",
   "execution_count": 27,
   "metadata": {},
   "outputs": [
    {
     "name": "stdout",
     "output_type": "stream",
     "text": [
      "[<p class=\"text odd\">first <b>bold</b> paragraph</p>]\n",
      "[<p class=\"text odd\">first <b>bold</b> paragraph</p>]\n"
     ]
    }
   ],
   "source": [
    "print(soup.select('p.text.odd'))\n",
    "print(soup.select('p.odd.text'))"
   ]
  },
  {
   "cell_type": "code",
   "execution_count": 28,
   "metadata": {},
   "outputs": [
    {
     "data": {
      "text/plain": [
       "[<p class=\"list odd\">third <a id=\"paragraph\"><b>bold link</b></a></p>]"
      ]
     },
     "execution_count": 28,
     "metadata": {},
     "output_type": "execute_result"
    }
   ],
   "source": [
    "soup.select('p:nth-of-type(3)')"
   ]
  },
  {
   "cell_type": "code",
   "execution_count": 29,
   "metadata": {},
   "outputs": [
    {
     "data": {
      "text/plain": [
       "[<b>bold link</b>]"
      ]
     },
     "execution_count": 29,
     "metadata": {},
     "output_type": "execute_result"
    }
   ],
   "source": [
    "soup.select('a > b')"
   ]
  },
  {
   "cell_type": "code",
   "execution_count": 30,
   "metadata": {},
   "outputs": [
    {
     "data": {
      "text/plain": [
       "['body', 'b', 'b']"
      ]
     },
     "execution_count": 30,
     "metadata": {},
     "output_type": "execute_result"
    }
   ],
   "source": [
    "# BeautifulSoup and Regular Expressions\n",
    "import re\n",
    "[i.name for i in soup.find_all(name=re.compile('^b'))]"
   ]
  },
  {
   "cell_type": "code",
   "execution_count": 31,
   "metadata": {},
   "outputs": [
    {
     "data": {
      "text/plain": [
       "[<b>bold</b>,\n",
       " <a href=\"https://mail.ru\">link</a>,\n",
       " <a id=\"paragraph\"><b>bold link</b></a>,\n",
       " <b>bold link</b>]"
      ]
     },
     "execution_count": 31,
     "metadata": {},
     "output_type": "execute_result"
    }
   ],
   "source": [
    "[i for i in soup(['a', 'b'])]"
   ]
  },
  {
   "cell_type": "code",
   "execution_count": 45,
   "metadata": {},
   "outputs": [
    {
     "data": {
      "text/plain": [
       "<b>bold</b>"
      ]
     },
     "execution_count": 45,
     "metadata": {},
     "output_type": "execute_result"
    }
   ],
   "source": [
    "tag = soup.b\n",
    "tag"
   ]
  },
  {
   "cell_type": "code",
   "execution_count": 46,
   "metadata": {},
   "outputs": [
    {
     "name": "stdout",
     "output_type": "stream",
     "text": [
      "<p class=\"text odd\">first <b>bold</b> paragraph</p>\n",
      "<p class=\"text odd\">first <i id=\"myid\">italic</i> paragraph</p>\n"
     ]
    }
   ],
   "source": [
    "print(soup.p)\n",
    "tag.name = 'i'\n",
    "tag['id'] = 'myid'\n",
    "tag.string = 'italic'\n",
    "print(soup.p)"
   ]
  },
  {
   "cell_type": "code",
   "execution_count": 47,
   "metadata": {},
   "outputs": [],
   "source": [
    "# let's try parsing mail news site\n",
    "import requests\n",
    "result = requests.get('https://news.mail.ru/')\n",
    "html = result.text\n",
    "soup = BeautifulSoup(html, 'lxml')"
   ]
  },
  {
   "cell_type": "code",
   "execution_count": 64,
   "metadata": {},
   "outputs": [
    {
     "data": {
      "text/plain": [
       "[('Новости Санкт-Петербурга',\n",
       "  ['Берегите зонтики: в\\xa0Петербурге февральская «жара», дождь и\\xa0ветер',\n",
       "   'Двое покинувших карантин по\\xa0коронавирусу вернулись в\\xa0больницу',\n",
       "   'Мединский рассказал об\\xa0открытии памятника Александру III',\n",
       "   'Девушка устроила скандал на борту самолета Петербург - Сочи']),\n",
       " ('Политика',\n",
       "  ['Посол России в Турции прокомментировал угрозы в свой адрес',\n",
       "   'Глава МИД Польши назвал РФ серьезной угрозой, которой ЕС должен противостоять вместе с США',\n",
       "   'Переводчики Путина перечислили его самые затруднительные фразы']),\n",
       " ('Экономика',\n",
       "  ['Банки получили инструкцию по борьбе с мошенниками',\n",
       "   'Мишустин поручил снять ограничения на закупки иностранных лекарств',\n",
       "   'Сбербанк опроверг сообщения об утечке данных клиентов']),\n",
       " ('Общество',\n",
       "  ['Тысячи японцев собрались на «пикантный» фестиваль (фото)',\n",
       "   'В РПЦ призвали не воспринимать буквально слова протоиерея Смирнова о гражданских женах',\n",
       "   '«Триумвират тепла». Синоптик предрёк апрельскую погоду в Москве на следующей неделе']),\n",
       " ('События',\n",
       "  ['В посольстве России во Франции сообщили, что Павленский не обращался к ним за помощью',\n",
       "   'Умер автор ремикса на главную тему «Бригады» Андрей Иванов',\n",
       "   'Настоятель рассказал о нападении в московском храме']),\n",
       " ('Справки', []),\n",
       " ('Фоторепортажи', []),\n",
       " ('Здоровье', []),\n",
       " ('Hi-Tech', []),\n",
       " ('Авто', []),\n",
       " ('Кино', []),\n",
       " ('Недвижимость', []),\n",
       " ('Леди', []),\n",
       " ('Дом', [])]"
      ]
     },
     "execution_count": 64,
     "metadata": {},
     "output_type": "execute_result"
    }
   ],
   "source": [
    "[\n",
    "    (section.string, \n",
    "     [\n",
    "         link.string for link in section.find_parents()[4].find_all('span', class_='link__text')\n",
    "     ]\n",
    "    ) for section in soup.find_all('span', class_='hdr__inner')\n",
    "]"
   ]
  },
  {
   "cell_type": "code",
   "execution_count": null,
   "metadata": {},
   "outputs": [],
   "source": []
  },
  {
   "cell_type": "code",
   "execution_count": null,
   "metadata": {},
   "outputs": [],
   "source": []
  }
 ],
 "metadata": {
  "file_extension": ".py",
  "kernelspec": {
   "display_name": "Python 3",
   "language": "python",
   "name": "python3"
  },
  "language_info": {
   "codemirror_mode": {
    "name": "ipython",
    "version": 3
   },
   "file_extension": ".py",
   "mimetype": "text/x-python",
   "name": "python",
   "nbconvert_exporter": "python",
   "pygments_lexer": "ipython3",
   "version": "3.8.1"
  },
  "mimetype": "text/x-python",
  "name": "python",
  "npconvert_exporter": "python",
  "pygments_lexer": "ipython3",
  "version": 3
 },
 "nbformat": 4,
 "nbformat_minor": 2
}
